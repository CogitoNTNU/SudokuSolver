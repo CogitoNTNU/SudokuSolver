{
 "cells": [
  {
   "cell_type": "code",
   "execution_count": 1,
   "metadata": {},
   "outputs": [],
   "source": [
    "import numpy as np\n",
    "import tensorflowjs as tfjs\n",
    "\n",
    "from keras.datasets import mnist\n",
    "from keras.preprocessing.image import ImageDataGenerator\n",
    "from keras.utils import to_categorical\n",
    "\n",
    "from keras.models import Sequential\n",
    "from keras.layers import Dense, Dropout, Flatten\n",
    "from keras.layers import Conv2D, MaxPooling2D, BatchNormalization\n",
    "from keras.optimizers import Adam\n",
    "import builtins\n",
    "open = builtins.open\n"
   ]
  },
  {
   "cell_type": "code",
   "execution_count": 2,
   "metadata": {},
   "outputs": [],
   "source": [
    "label_path = \"../website/prisma/seeding/labels.bin\"\n",
    "digits_path = \"../website/prisma/seeding/digits.bin\"\n",
    "model_path = \"new_model\""
   ]
  },
  {
   "cell_type": "code",
   "execution_count": 3,
   "metadata": {},
   "outputs": [
    {
     "name": "stdout",
     "output_type": "stream",
     "text": [
      "1 558\n",
      "2 560\n",
      "3 568\n",
      "4 547\n",
      "5 539\n",
      "6 570\n",
      "7 579\n",
      "8 555\n",
      "9 554\n"
     ]
    }
   ],
   "source": [
    "def split_data(x: np.ndarray, y: np.ndarray) -> tuple[tuple[np.ndarray, np.ndarray], tuple[np.ndarray, np.ndarray]]:\n",
    "    i = int(len(y) * 0.8)\n",
    "    return (x[:i], y[:i]), (x[i:], y[i:])\n",
    "\n",
    "\n",
    "# Read labels\n",
    "labels: np.ndarray\n",
    "with open(label_path, \"rb\") as f:\n",
    "    labels = np.frombuffer(f.read(), dtype=np.uint8)\n",
    "\n",
    "# Read digits\n",
    "digits: np.ndarray\n",
    "size = 28*28\n",
    "with open(digits_path, \"rb\") as f:\n",
    "    digit_buffer = np.frombuffer(f.read(), dtype=np.uint8)\n",
    "\n",
    "    num_images = len(labels)\n",
    "    digits = np.empty((num_images, 28, 28))\n",
    "\n",
    "    for n in range(num_images):\n",
    "        img = digit_buffer[n*size:(n+1)*size]\n",
    "        img = img.reshape((28, 28))\n",
    "        digits[n] = img\n",
    "\n",
    "\n",
    "# Remove all zeroes\n",
    "zero_mask = np.where(labels != 0)\n",
    "labels = labels[zero_mask]\n",
    "digits = digits[zero_mask]\n",
    "\n",
    "for i in range(1, 10):\n",
    "    print(i, len(labels[np.where(labels == i)]))\n",
    "\n",
    "# Split into train and test\n",
    "(x_train, y_train), (x_test, y_test) = split_data(digits, labels)\n",
    "\n",
    "y_train -= 1\n",
    "y_test -= 1\n",
    "\n",
    "x_train = x_train.astype(np.float32) / 255.0\n",
    "x_test = x_test.astype(np.float32) / 255.0\n",
    "\n",
    "x_train = x_train.reshape(-1, 28, 28, 1)\n",
    "x_test = x_test.reshape(-1, 28, 28, 1)"
   ]
  },
  {
   "cell_type": "code",
   "execution_count": 4,
   "metadata": {},
   "outputs": [],
   "source": [
    "datagen = ImageDataGenerator(\n",
    "            featurewise_center=False,  # set input mean to 0 over the dataset\n",
    "            samplewise_center=False,  # set each sample mean to 0\n",
    "            featurewise_std_normalization=False,  # divide inputs by std of the dataset\n",
    "            samplewise_std_normalization=False,  # divide each input by its std\n",
    "            zca_whitening=False,  # apply ZCA whitening\n",
    "            rotation_range=10,  # randomly rotate images in the range (degrees, 0 to 180)\n",
    "            zoom_range = 0.1, # Randomly zoom image \n",
    "            width_shift_range=0.1,  # randomly shift images horizontally (fraction of total width)\n",
    "            height_shift_range=0.1,  # randomly shift images vertically (fraction of total height)\n",
    "            horizontal_flip=False,  # randomly flip images\n",
    "            vertical_flip=False)  # randomly flip images"
   ]
  },
  {
   "cell_type": "code",
   "execution_count": 5,
   "metadata": {},
   "outputs": [],
   "source": [
    "datagen.fit(x_train)"
   ]
  },
  {
   "cell_type": "code",
   "execution_count": 6,
   "metadata": {},
   "outputs": [],
   "source": [
    "y_train = to_categorical(y_train, num_classes=9)\n",
    "y_test = to_categorical(y_test, num_classes=9)"
   ]
  },
  {
   "cell_type": "code",
   "execution_count": 7,
   "metadata": {},
   "outputs": [],
   "source": [
    "model = Sequential()\n",
    "\n",
    "model.add(Conv2D(filters=32, kernel_size=(3, 3), activation='relu', strides=1, padding='same', data_format='channels_last',\n",
    "                 input_shape=(28,28,1)))\n",
    "model.add(BatchNormalization())\n",
    "model.add(Conv2D(filters=32, kernel_size=(3, 3), activation='relu', strides=1, padding='same', data_format='channels_last'))\n",
    "model.add(BatchNormalization())\n",
    "model.add(MaxPooling2D(pool_size=(2, 2), strides=2, padding='valid' ))\n",
    "model.add(Dropout(0.25))\n",
    "\n",
    "model.add(Conv2D(filters=64, kernel_size=(3, 3), activation='relu', strides=1, padding='same', data_format='channels_last'))\n",
    "model.add(BatchNormalization())\n",
    "model.add(Conv2D(filters=64, kernel_size=(3, 3), strides=1, padding='same', activation='relu', data_format='channels_last'))\n",
    "model.add(BatchNormalization())\n",
    "model.add(MaxPooling2D(pool_size=(2, 2), padding='valid', strides=2))\n",
    "model.add(Dropout(0.25))\n",
    "\n",
    "model.add(Flatten())\n",
    "model.add(Dense(512, activation='relu'))\n",
    "model.add(BatchNormalization())\n",
    "model.add(Dropout(0.25))\n",
    "model.add(Dense(1024, activation='relu'))\n",
    "model.add(BatchNormalization())\n",
    "model.add(Dropout(0.5))\n",
    "model.add(Dense(9, activation='softmax'))"
   ]
  },
  {
   "cell_type": "code",
   "execution_count": 8,
   "metadata": {},
   "outputs": [
    {
     "name": "stderr",
     "output_type": "stream",
     "text": [
      "WARNING:absl:At this time, the v2.11+ optimizer `tf.keras.optimizers.Adam` runs slowly on M1/M2 Macs, please use the legacy Keras optimizer instead, located at `tf.keras.optimizers.legacy.Adam`.\n"
     ]
    },
    {
     "name": "stdout",
     "output_type": "stream",
     "text": [
      "Model: \"sequential\"\n",
      "_________________________________________________________________\n",
      " Layer (type)                Output Shape              Param #   \n",
      "=================================================================\n",
      " conv2d (Conv2D)             (None, 28, 28, 32)        320       \n",
      "                                                                 \n",
      " batch_normalization (Batch  (None, 28, 28, 32)        128       \n",
      " Normalization)                                                  \n",
      "                                                                 \n",
      " conv2d_1 (Conv2D)           (None, 28, 28, 32)        9248      \n",
      "                                                                 \n",
      " batch_normalization_1 (Bat  (None, 28, 28, 32)        128       \n",
      " chNormalization)                                                \n",
      "                                                                 \n",
      " max_pooling2d (MaxPooling2  (None, 14, 14, 32)        0         \n",
      " D)                                                              \n",
      "                                                                 \n",
      " dropout (Dropout)           (None, 14, 14, 32)        0         \n",
      "                                                                 \n",
      " conv2d_2 (Conv2D)           (None, 14, 14, 64)        18496     \n",
      "                                                                 \n",
      " batch_normalization_2 (Bat  (None, 14, 14, 64)        256       \n",
      " chNormalization)                                                \n",
      "                                                                 \n",
      " conv2d_3 (Conv2D)           (None, 14, 14, 64)        36928     \n",
      "                                                                 \n",
      " batch_normalization_3 (Bat  (None, 14, 14, 64)        256       \n",
      " chNormalization)                                                \n",
      "                                                                 \n",
      " max_pooling2d_1 (MaxPoolin  (None, 7, 7, 64)          0         \n",
      " g2D)                                                            \n",
      "                                                                 \n",
      " dropout_1 (Dropout)         (None, 7, 7, 64)          0         \n",
      "                                                                 \n",
      " flatten (Flatten)           (None, 3136)              0         \n",
      "                                                                 \n",
      " dense (Dense)               (None, 512)               1606144   \n",
      "                                                                 \n",
      " batch_normalization_4 (Bat  (None, 512)               2048      \n",
      " chNormalization)                                                \n",
      "                                                                 \n",
      " dropout_2 (Dropout)         (None, 512)               0         \n",
      "                                                                 \n",
      " dense_1 (Dense)             (None, 1024)              525312    \n",
      "                                                                 \n",
      " batch_normalization_5 (Bat  (None, 1024)              4096      \n",
      " chNormalization)                                                \n",
      "                                                                 \n",
      " dropout_3 (Dropout)         (None, 1024)              0         \n",
      "                                                                 \n",
      " dense_2 (Dense)             (None, 9)                 9225      \n",
      "                                                                 \n",
      "=================================================================\n",
      "Total params: 2212585 (8.44 MB)\n",
      "Trainable params: 2209129 (8.43 MB)\n",
      "Non-trainable params: 3456 (13.50 KB)\n",
      "_________________________________________________________________\n"
     ]
    }
   ],
   "source": [
    "optimizer = Adam(learning_rate=0.001, beta_1=0.9, beta_2=0.999)\n",
    "model.compile(optimizer=optimizer, loss=\"categorical_crossentropy\", metrics=[\"accuracy\"])\n",
    "model.summary()"
   ]
  },
  {
   "cell_type": "code",
   "execution_count": 9,
   "metadata": {},
   "outputs": [],
   "source": [
    "batch_size = 64\n",
    "epochs = 50"
   ]
  },
  {
   "cell_type": "code",
   "execution_count": 10,
   "metadata": {},
   "outputs": [
    {
     "name": "stdout",
     "output_type": "stream",
     "text": [
      "Epoch 1/20\n"
     ]
    },
    {
     "name": "stderr",
     "output_type": "stream",
     "text": [
      "2024-04-24 19:44:38.627410: E tensorflow/core/grappler/optimizers/meta_optimizer.cc:961] model_pruner failed: INVALID_ARGUMENT: Graph does not contain terminal node Adam/AssignAddVariableOp.\n"
     ]
    },
    {
     "name": "stdout",
     "output_type": "stream",
     "text": [
      "62/62 [==============================] - 3s 31ms/step - loss: 1.5830 - accuracy: 0.5615 - val_loss: 6.6605 - val_accuracy: 0.1074\n",
      "Epoch 2/20\n",
      "62/62 [==============================] - 2s 30ms/step - loss: 0.3840 - accuracy: 0.8742 - val_loss: 5.4174 - val_accuracy: 0.2048\n",
      "Epoch 3/20\n",
      "62/62 [==============================] - 2s 30ms/step - loss: 0.2022 - accuracy: 0.9364 - val_loss: 7.9778 - val_accuracy: 0.1004\n",
      "Epoch 4/20\n",
      "62/62 [==============================] - 2s 29ms/step - loss: 0.1110 - accuracy: 0.9652 - val_loss: 8.4422 - val_accuracy: 0.1004\n",
      "Epoch 5/20\n",
      "62/62 [==============================] - 2s 25ms/step - loss: 0.0943 - accuracy: 0.9742 - val_loss: 8.1078 - val_accuracy: 0.1004\n",
      "Epoch 6/20\n",
      "62/62 [==============================] - 2s 24ms/step - loss: 0.0793 - accuracy: 0.9778 - val_loss: 6.5191 - val_accuracy: 0.1064\n",
      "Epoch 7/20\n",
      "62/62 [==============================] - 2s 24ms/step - loss: 0.0718 - accuracy: 0.9803 - val_loss: 4.8290 - val_accuracy: 0.2833\n",
      "Epoch 8/20\n",
      "62/62 [==============================] - 2s 24ms/step - loss: 0.0704 - accuracy: 0.9803 - val_loss: 1.4326 - val_accuracy: 0.4523\n",
      "Epoch 9/20\n",
      "62/62 [==============================] - 2s 25ms/step - loss: 0.0427 - accuracy: 0.9904 - val_loss: 0.0114 - val_accuracy: 0.9990\n",
      "Epoch 10/20\n",
      "62/62 [==============================] - 2s 24ms/step - loss: 0.0484 - accuracy: 0.9846 - val_loss: 0.0299 - val_accuracy: 0.9930\n",
      "Epoch 11/20\n",
      "62/62 [==============================] - 2s 24ms/step - loss: 0.0487 - accuracy: 0.9899 - val_loss: 0.0110 - val_accuracy: 0.9970\n",
      "Epoch 12/20\n",
      "62/62 [==============================] - 2s 24ms/step - loss: 0.0508 - accuracy: 0.9874 - val_loss: 0.0122 - val_accuracy: 0.9970\n",
      "Epoch 13/20\n",
      "62/62 [==============================] - 2s 25ms/step - loss: 0.0448 - accuracy: 0.9881 - val_loss: 0.0013 - val_accuracy: 1.0000\n",
      "Epoch 14/20\n",
      "62/62 [==============================] - 2s 25ms/step - loss: 0.0449 - accuracy: 0.9902 - val_loss: 0.0273 - val_accuracy: 0.9930\n",
      "Epoch 15/20\n",
      "62/62 [==============================] - 2s 25ms/step - loss: 0.0387 - accuracy: 0.9909 - val_loss: 0.1019 - val_accuracy: 0.9702\n",
      "Epoch 16/20\n",
      "62/62 [==============================] - 2s 25ms/step - loss: 0.0414 - accuracy: 0.9894 - val_loss: 0.0025 - val_accuracy: 0.9990\n",
      "Epoch 17/20\n",
      "62/62 [==============================] - 2s 25ms/step - loss: 0.0317 - accuracy: 0.9932 - val_loss: 0.0069 - val_accuracy: 0.9970\n",
      "Epoch 18/20\n",
      "62/62 [==============================] - 2s 25ms/step - loss: 0.0315 - accuracy: 0.9914 - val_loss: 0.0402 - val_accuracy: 0.9871\n",
      "Epoch 19/20\n",
      "62/62 [==============================] - 2s 24ms/step - loss: 0.0281 - accuracy: 0.9934 - val_loss: 0.0069 - val_accuracy: 0.9980\n",
      "Epoch 20/20\n",
      "62/62 [==============================] - 2s 25ms/step - loss: 0.0292 - accuracy: 0.9934 - val_loss: 0.0715 - val_accuracy: 0.9841\n"
     ]
    },
    {
     "data": {
      "text/plain": [
       "<keras.src.callbacks.History at 0x2a16b0390>"
      ]
     },
     "execution_count": 10,
     "metadata": {},
     "output_type": "execute_result"
    }
   ],
   "source": [
    "model.fit(datagen.flow(x_train, y_train, batch_size = batch_size), epochs = epochs, \n",
    "                              validation_data = (x_test, y_test), verbose=1, \n",
    "                              steps_per_epoch=x_train.shape[0] // batch_size)"
   ]
  },
  {
   "cell_type": "code",
   "execution_count": 11,
   "metadata": {},
   "outputs": [
    {
     "name": "stderr",
     "output_type": "stream",
     "text": [
      "/Users/andreas/Documents/code/SudokuSolver/.venv/lib/python3.11/site-packages/keras/src/engine/training.py:3103: UserWarning: You are saving your model as an HDF5 file via `model.save()`. This file format is considered legacy. We recommend using instead the native Keras format, e.g. `model.save('my_model.keras')`.\n",
      "  saving_api.save_model(\n"
     ]
    }
   ],
   "source": [
    "tfjs.converters.save_keras_model(model, \"./models/tfjs_model\")"
   ]
  }
 ],
 "metadata": {
  "kernelspec": {
   "display_name": ".venv",
   "language": "python",
   "name": "python3"
  },
  "language_info": {
   "codemirror_mode": {
    "name": "ipython",
    "version": 3
   },
   "file_extension": ".py",
   "mimetype": "text/x-python",
   "name": "python",
   "nbconvert_exporter": "python",
   "pygments_lexer": "ipython3",
   "version": "3.11.8"
  }
 },
 "nbformat": 4,
 "nbformat_minor": 2
}
