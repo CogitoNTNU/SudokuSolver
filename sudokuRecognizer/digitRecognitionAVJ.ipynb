{
 "cells": [
  {
   "cell_type": "code",
   "execution_count": 29,
   "metadata": {},
   "outputs": [],
   "source": [
    "import numpy as np\n",
    "import tensorflowjs as tfjs\n",
    "\n",
    "from keras.datasets import mnist\n",
    "from keras.preprocessing.image import ImageDataGenerator\n",
    "from keras.utils import to_categorical\n",
    "\n",
    "from keras.models import Sequential\n",
    "from keras.layers import Dense, Dropout, Flatten\n",
    "from keras.layers import Conv2D, MaxPooling2D, BatchNormalization\n",
    "from keras.optimizers import Adam\n",
    "import builtins\n",
    "open = builtins.open\n"
   ]
  },
  {
   "cell_type": "code",
   "execution_count": 30,
   "metadata": {},
   "outputs": [],
   "source": [
    "label_path = \"../website/prisma/seeding/labels.bin\"\n",
    "digits_path = \"../website/prisma/seeding/digits.bin\"\n",
    "model_path = \"new_model\""
   ]
  },
  {
   "cell_type": "code",
   "execution_count": 31,
   "metadata": {},
   "outputs": [
    {
     "name": "stdout",
     "output_type": "stream",
     "text": [
      "0 4415\n",
      "1 315\n",
      "2 362\n",
      "3 386\n",
      "4 372\n",
      "5 363\n",
      "6 367\n",
      "7 374\n",
      "8 371\n",
      "9 370\n"
     ]
    }
   ],
   "source": [
    "def split_data(x: np.ndarray, y: np.ndarray) -> tuple[tuple[np.ndarray, np.ndarray], tuple[np.ndarray, np.ndarray]]:\n",
    "    i = int(len(y) * 0.8)\n",
    "    return (x[:i], y[:i]), (x[i:], y[i:])\n",
    "\n",
    "\n",
    "# Read labels\n",
    "labels: np.ndarray\n",
    "with open(label_path, \"rb\") as f:\n",
    "    labels = np.frombuffer(f.read(), dtype=np.uint8)\n",
    "\n",
    "# Read digits\n",
    "digits: np.ndarray\n",
    "size = 28*28\n",
    "with open(digits_path, \"rb\") as f:\n",
    "    digit_buffer = np.frombuffer(f.read(), dtype=np.uint8)\n",
    "\n",
    "    num_images = len(labels)\n",
    "    digits = np.empty((num_images, 28, 28))\n",
    "\n",
    "    for n in range(num_images):\n",
    "        img = digit_buffer[n*size:(n+1)*size]\n",
    "        img = img.reshape((28, 28))\n",
    "        digits[n] = img\n",
    "\n",
    "\n",
    "# Remove some zeroes\n",
    "num_zeroes = len(labels[np.where(labels == 0)])\n",
    "# print(num_zeroes)\n",
    "for i in range(10):\n",
    "    print(i, len(labels[np.where(labels == i)]))\n",
    "\n",
    "target_zeroes = num_zeroes // 11\n",
    "\n",
    "digits_temp = np.empty((num_images - target_zeroes, 28, 28))\n",
    "labels_temp = np.empty((num_images - target_zeroes))\n",
    "\n",
    "zeroes = 0\n",
    "j = 0\n",
    "for i in range(num_images):\n",
    "    if (labels[i] == 0):\n",
    "        if (zeroes >= target_zeroes):\n",
    "            continue\n",
    "        zeroes += 1\n",
    "    labels_temp[j] = labels[i]\n",
    "    digits_temp[j] = digits[i]\n",
    "    j += 1\n",
    "\n",
    "# Split into train and test\n",
    "(x_train, y_train), (x_test, y_test) = split_data(digits, labels)\n",
    "\n",
    "x_train = x_train.astype(np.float32) / 255.0\n",
    "x_test = x_test.astype(np.float32) / 255.0\n",
    "\n",
    "x_train = x_train.reshape(-1, 28, 28, 1)\n",
    "x_test = x_test.reshape(-1, 28, 28, 1)"
   ]
  },
  {
   "cell_type": "code",
   "execution_count": 32,
   "metadata": {},
   "outputs": [],
   "source": [
    "datagen = ImageDataGenerator(\n",
    "            featurewise_center=False,  # set input mean to 0 over the dataset\n",
    "            samplewise_center=False,  # set each sample mean to 0\n",
    "            featurewise_std_normalization=False,  # divide inputs by std of the dataset\n",
    "            samplewise_std_normalization=False,  # divide each input by its std\n",
    "            zca_whitening=False,  # apply ZCA whitening\n",
    "            rotation_range=10,  # randomly rotate images in the range (degrees, 0 to 180)\n",
    "            zoom_range = 0.1, # Randomly zoom image \n",
    "            width_shift_range=0.1,  # randomly shift images horizontally (fraction of total width)\n",
    "            height_shift_range=0.1,  # randomly shift images vertically (fraction of total height)\n",
    "            horizontal_flip=False,  # randomly flip images\n",
    "            vertical_flip=False)  # randomly flip images"
   ]
  },
  {
   "cell_type": "code",
   "execution_count": 33,
   "metadata": {},
   "outputs": [],
   "source": [
    "datagen.fit(x_train)"
   ]
  },
  {
   "cell_type": "code",
   "execution_count": 34,
   "metadata": {},
   "outputs": [],
   "source": [
    "y_train = to_categorical(y_train, num_classes=10)\n",
    "y_test = to_categorical(y_test, num_classes=10)"
   ]
  },
  {
   "cell_type": "code",
   "execution_count": 35,
   "metadata": {},
   "outputs": [],
   "source": [
    "model = Sequential()\n",
    "\n",
    "model.add(Conv2D(filters=32, kernel_size=(3, 3), activation='relu', strides=1, padding='same', data_format='channels_last',\n",
    "                 input_shape=(28,28,1)))\n",
    "model.add(BatchNormalization())\n",
    "model.add(Conv2D(filters=32, kernel_size=(3, 3), activation='relu', strides=1, padding='same', data_format='channels_last'))\n",
    "model.add(BatchNormalization())\n",
    "model.add(MaxPooling2D(pool_size=(2, 2), strides=2, padding='valid' ))\n",
    "model.add(Dropout(0.25))\n",
    "\n",
    "model.add(Conv2D(filters=64, kernel_size=(3, 3), activation='relu', strides=1, padding='same', data_format='channels_last'))\n",
    "model.add(BatchNormalization())\n",
    "model.add(Conv2D(filters=64, kernel_size=(3, 3), strides=1, padding='same', activation='relu', data_format='channels_last'))\n",
    "model.add(BatchNormalization())\n",
    "model.add(MaxPooling2D(pool_size=(2, 2), padding='valid', strides=2))\n",
    "model.add(Dropout(0.25))\n",
    "\n",
    "model.add(Flatten())\n",
    "model.add(Dense(512, activation='relu'))\n",
    "model.add(BatchNormalization())\n",
    "model.add(Dropout(0.25))\n",
    "model.add(Dense(1024, activation='relu'))\n",
    "model.add(BatchNormalization())\n",
    "model.add(Dropout(0.5))\n",
    "model.add(Dense(10, activation='softmax'))"
   ]
  },
  {
   "cell_type": "code",
   "execution_count": 36,
   "metadata": {},
   "outputs": [
    {
     "name": "stderr",
     "output_type": "stream",
     "text": [
      "WARNING:absl:At this time, the v2.11+ optimizer `tf.keras.optimizers.Adam` runs slowly on M1/M2 Macs, please use the legacy Keras optimizer instead, located at `tf.keras.optimizers.legacy.Adam`.\n"
     ]
    },
    {
     "name": "stdout",
     "output_type": "stream",
     "text": [
      "Model: \"sequential_1\"\n",
      "_________________________________________________________________\n",
      " Layer (type)                Output Shape              Param #   \n",
      "=================================================================\n",
      " conv2d_4 (Conv2D)           (None, 28, 28, 32)        320       \n",
      "                                                                 \n",
      " batch_normalization_6 (Bat  (None, 28, 28, 32)        128       \n",
      " chNormalization)                                                \n",
      "                                                                 \n",
      " conv2d_5 (Conv2D)           (None, 28, 28, 32)        9248      \n",
      "                                                                 \n",
      " batch_normalization_7 (Bat  (None, 28, 28, 32)        128       \n",
      " chNormalization)                                                \n",
      "                                                                 \n",
      " max_pooling2d_2 (MaxPoolin  (None, 14, 14, 32)        0         \n",
      " g2D)                                                            \n",
      "                                                                 \n",
      " dropout_4 (Dropout)         (None, 14, 14, 32)        0         \n",
      "                                                                 \n",
      " conv2d_6 (Conv2D)           (None, 14, 14, 64)        18496     \n",
      "                                                                 \n",
      " batch_normalization_8 (Bat  (None, 14, 14, 64)        256       \n",
      " chNormalization)                                                \n",
      "                                                                 \n",
      " conv2d_7 (Conv2D)           (None, 14, 14, 64)        36928     \n",
      "                                                                 \n",
      " batch_normalization_9 (Bat  (None, 14, 14, 64)        256       \n",
      " chNormalization)                                                \n",
      "                                                                 \n",
      " max_pooling2d_3 (MaxPoolin  (None, 7, 7, 64)          0         \n",
      " g2D)                                                            \n",
      "                                                                 \n",
      " dropout_5 (Dropout)         (None, 7, 7, 64)          0         \n",
      "                                                                 \n",
      " flatten_1 (Flatten)         (None, 3136)              0         \n",
      "                                                                 \n",
      " dense_3 (Dense)             (None, 512)               1606144   \n",
      "                                                                 \n",
      " batch_normalization_10 (Ba  (None, 512)               2048      \n",
      " tchNormalization)                                               \n",
      "                                                                 \n",
      " dropout_6 (Dropout)         (None, 512)               0         \n",
      "                                                                 \n",
      " dense_4 (Dense)             (None, 1024)              525312    \n",
      "                                                                 \n",
      " batch_normalization_11 (Ba  (None, 1024)              4096      \n",
      " tchNormalization)                                               \n",
      "                                                                 \n",
      " dropout_7 (Dropout)         (None, 1024)              0         \n",
      "                                                                 \n",
      " dense_5 (Dense)             (None, 10)                10250     \n",
      "                                                                 \n",
      "=================================================================\n",
      "Total params: 2213610 (8.44 MB)\n",
      "Trainable params: 2210154 (8.43 MB)\n",
      "Non-trainable params: 3456 (13.50 KB)\n",
      "_________________________________________________________________\n"
     ]
    }
   ],
   "source": [
    "optimizer = Adam(learning_rate=0.001, beta_1=0.9, beta_2=0.999)\n",
    "model.compile(optimizer=optimizer, loss=\"categorical_crossentropy\", metrics=[\"accuracy\"])\n",
    "model.summary()"
   ]
  },
  {
   "cell_type": "code",
   "execution_count": 37,
   "metadata": {},
   "outputs": [],
   "source": [
    "batch_size = 64\n",
    "epochs = 20"
   ]
  },
  {
   "cell_type": "code",
   "execution_count": 38,
   "metadata": {},
   "outputs": [
    {
     "name": "stdout",
     "output_type": "stream",
     "text": [
      "Epoch 1/20\n",
      "96/96 [==============================] - 4s 31ms/step - loss: 0.9870 - accuracy: 0.7820 - val_loss: 8.0526 - val_accuracy: 0.2840\n",
      "Epoch 2/20\n",
      "96/96 [==============================] - 3s 26ms/step - loss: 0.3473 - accuracy: 0.8982 - val_loss: 9.7774 - val_accuracy: 0.2840\n",
      "Epoch 3/20\n",
      "96/96 [==============================] - 2s 25ms/step - loss: 0.2073 - accuracy: 0.9442 - val_loss: 8.5957 - val_accuracy: 0.2840\n",
      "Epoch 4/20\n",
      "96/96 [==============================] - 2s 25ms/step - loss: 0.1328 - accuracy: 0.9657 - val_loss: 4.9801 - val_accuracy: 0.2853\n",
      "Epoch 5/20\n",
      "96/96 [==============================] - 2s 26ms/step - loss: 0.1235 - accuracy: 0.9713 - val_loss: 1.5505 - val_accuracy: 0.5789\n",
      "Epoch 6/20\n",
      "96/96 [==============================] - 2s 26ms/step - loss: 0.0911 - accuracy: 0.9719 - val_loss: 0.1568 - val_accuracy: 0.9688\n",
      "Epoch 7/20\n",
      "96/96 [==============================] - 2s 25ms/step - loss: 0.0983 - accuracy: 0.9764 - val_loss: 0.1343 - val_accuracy: 0.9805\n",
      "Epoch 8/20\n",
      "96/96 [==============================] - 2s 26ms/step - loss: 0.0890 - accuracy: 0.9764 - val_loss: 0.2664 - val_accuracy: 0.9708\n",
      "Epoch 9/20\n",
      "96/96 [==============================] - 2s 26ms/step - loss: 0.0644 - accuracy: 0.9823 - val_loss: 0.2020 - val_accuracy: 0.9812\n",
      "Epoch 10/20\n",
      "96/96 [==============================] - 3s 26ms/step - loss: 0.0628 - accuracy: 0.9847 - val_loss: 0.4097 - val_accuracy: 0.9272\n",
      "Epoch 11/20\n",
      "96/96 [==============================] - 3s 27ms/step - loss: 0.0758 - accuracy: 0.9800 - val_loss: 0.3227 - val_accuracy: 0.9760\n",
      "Epoch 12/20\n",
      "96/96 [==============================] - 3s 27ms/step - loss: 0.0779 - accuracy: 0.9801 - val_loss: 0.2246 - val_accuracy: 0.9766\n",
      "Epoch 13/20\n",
      "96/96 [==============================] - 3s 26ms/step - loss: 0.0659 - accuracy: 0.9819 - val_loss: 0.2534 - val_accuracy: 0.9792\n",
      "Epoch 14/20\n",
      "96/96 [==============================] - 2s 26ms/step - loss: 0.0603 - accuracy: 0.9847 - val_loss: 0.2164 - val_accuracy: 0.9838\n",
      "Epoch 15/20\n",
      "96/96 [==============================] - 2s 26ms/step - loss: 0.0660 - accuracy: 0.9852 - val_loss: 0.5220 - val_accuracy: 0.8980\n",
      "Epoch 16/20\n",
      "96/96 [==============================] - 2s 25ms/step - loss: 0.0741 - accuracy: 0.9823 - val_loss: 0.2158 - val_accuracy: 0.9740\n",
      "Epoch 17/20\n",
      "96/96 [==============================] - 2s 25ms/step - loss: 0.0528 - accuracy: 0.9879 - val_loss: 0.2465 - val_accuracy: 0.9714\n",
      "Epoch 18/20\n",
      "96/96 [==============================] - 2s 26ms/step - loss: 0.0681 - accuracy: 0.9857 - val_loss: 0.2196 - val_accuracy: 0.9695\n",
      "Epoch 19/20\n",
      "96/96 [==============================] - 2s 26ms/step - loss: 0.0567 - accuracy: 0.9851 - val_loss: 0.2385 - val_accuracy: 0.9831\n",
      "Epoch 20/20\n",
      "96/96 [==============================] - 2s 26ms/step - loss: 0.0639 - accuracy: 0.9847 - val_loss: 0.2127 - val_accuracy: 0.9708\n"
     ]
    },
    {
     "data": {
      "text/plain": [
       "<keras.src.callbacks.History at 0x311951f10>"
      ]
     },
     "execution_count": 38,
     "metadata": {},
     "output_type": "execute_result"
    }
   ],
   "source": [
    "model.fit(datagen.flow(x_train, y_train, batch_size = batch_size), epochs = epochs, \n",
    "                              validation_data = (x_test, y_test), verbose=1, \n",
    "                              steps_per_epoch=x_train.shape[0] // batch_size)"
   ]
  },
  {
   "cell_type": "code",
   "execution_count": 39,
   "metadata": {},
   "outputs": [],
   "source": [
    "tfjs.converters.save_keras_model(model, \"./models/tfjs_model\")"
   ]
  }
 ],
 "metadata": {
  "kernelspec": {
   "display_name": ".venv",
   "language": "python",
   "name": "python3"
  },
  "language_info": {
   "codemirror_mode": {
    "name": "ipython",
    "version": 3
   },
   "file_extension": ".py",
   "mimetype": "text/x-python",
   "name": "python",
   "nbconvert_exporter": "python",
   "pygments_lexer": "ipython3",
   "version": "3.11.8"
  }
 },
 "nbformat": 4,
 "nbformat_minor": 2
}
